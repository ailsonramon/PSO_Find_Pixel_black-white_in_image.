{
  "nbformat": 4,
  "nbformat_minor": 0,
  "metadata": {
    "colab": {
      "name": "PSO_Find_Pixel_black-white_in_image.ipynb",
      "provenance": [],
      "authorship_tag": "ABX9TyN3s33xpsnM/Wq9vDrKaxLV",
      "include_colab_link": true
    },
    "kernelspec": {
      "name": "python3",
      "display_name": "Python 3"
    },
    "language_info": {
      "name": "python"
    }
  },
  "cells": [
    {
      "cell_type": "markdown",
      "metadata": {
        "id": "view-in-github",
        "colab_type": "text"
      },
      "source": [
        "<a href=\"https://colab.research.google.com/github/ailsonramon/PSO_Find_Pixel_black-white_in_image./blob/main/PSO_Find_Pixel_black_white_in_image.ipynb\" target=\"_parent\"><img src=\"https://colab.research.google.com/assets/colab-badge.svg\" alt=\"Open In Colab\"/></a>"
      ]
    },
    {
      "cell_type": "markdown",
      "metadata": {
        "id": "mUIyrO5By0nG"
      },
      "source": [
        "Ailson Ramon \n",
        "Computação Natural \n",
        "PSO - Pixel Claro e Escuro"
      ]
    },
    {
      "cell_type": "code",
      "metadata": {
        "id": "KRyZWXfCl3lv"
      },
      "source": [
        "from matplotlib.ticker import MaxNLocator\n",
        "import matplotlib.pyplot as plt\n",
        "from numpy import asarray\n",
        "from PIL import Image\n",
        "import pandas as pd\n",
        "import numpy as np\n",
        "import random\n",
        "import requests\n",
        "from io import BytesIO\n",
        "from io import StringIO\n",
        "%matplotlib inline"
      ],
      "execution_count": null,
      "outputs": []
    },
    {
      "cell_type": "code",
      "metadata": {
        "id": "eonup_hF2cWu"
      },
      "source": [
        "image = Image.open('arvore.jpeg')\n",
        "data = asarray(image)\n",
        "imgHeight = data.shape[0]\n",
        "imgWidth = data.shape[1]\n",
        "\n",
        "matrizPixels = np.zeros((imgHeight,imgWidth))\n",
        "for i in range(imgHeight):\n",
        "  for j in range(imgWidth):\n",
        "    matrizPixels[i][j] = data[i][j][0]\n",
        "\n",
        "def get_value_image(pos):\n",
        "  return matrizPixels[(int)(pos[1])][(int)(pos[0])]"
      ],
      "execution_count": null,
      "outputs": []
    },
    {
      "cell_type": "code",
      "metadata": {
        "id": "73_RcROSl7t_"
      },
      "source": [
        "class Particle():\n",
        "    def __init__(self, neighbor):\n",
        "        self.position = np.array([(int)(random.random()*imgWidth),(int)(random.random()*imgHeight)])\n",
        "        self.pbest_position = self.position\n",
        "        self.pbest_value = -1\n",
        "        self.velocity = np.array([0,0])\n",
        "        self.neighbor = neighbor\n",
        "\n",
        "    def __str__(self):\n",
        "        print(\"I am at \", self.position, \" my pbest is \", self.pbest_position)\n",
        "    \n",
        "    def move(self):\n",
        "        self.position = self.position + self.velocity\n",
        "        x = self.position[0]\n",
        "        y = self.position[1]\n",
        "        if x >= imgWidth: x = imgWidth-1\n",
        "        elif x < 0: x = 0\n",
        "        if y >= imgHeight: y = imgHeight-1\n",
        "        elif x < 0: y = 0\n",
        "        self.position = np.array([x, y])"
      ],
      "execution_count": null,
      "outputs": []
    },
    {
      "cell_type": "code",
      "metadata": {
        "id": "k7mni0YOmJAe"
      },
      "source": [
        "\n",
        "class Space():\n",
        "    def __init__(self, mode, target_error, n_particles):\n",
        "        self.target = mode\n",
        "        self.target_error = target_error\n",
        "        self.n_particles = n_particles\n",
        "        self.particles = []\n",
        "        self.gbest_value = -1\n",
        "        self.gbest_position = np.array([(int)(random.random()*imgWidth),(int)(random.random()*imgHeight)])\n",
        "        self.gBestValor = -1\n",
        "\n",
        "    def print_particles(self):\n",
        "        for particle in self.particles:\n",
        "            particle.__str__()\n",
        "   \n",
        "    def fitness(self, particle):\n",
        "        fit_value = get_value_image(particle.position)/255\n",
        "        if mode == 0: return fit_value \n",
        "        else: return 1 - fit_value\n",
        "\n",
        "    def set_pbest(self):\n",
        "        for particle in self.particles:\n",
        "            fitness_cadidate = self.fitness(particle)\n",
        "            if(particle.pbest_value > fitness_cadidate):\n",
        "                particle.pbest_value = fitness_cadidate\n",
        "                particle.pbest_position = particle.position\n",
        "\n",
        "    def set_gbest(self):\n",
        "        for particle in self.particles:\n",
        "            best_fitness_cadidate = self.fitness(particle)\n",
        "            if(self.gbest_value > best_fitness_cadidate):\n",
        "                self.gbest_value = best_fitness_cadidate\n",
        "                self.gbest_position = particle.position\n",
        "\n",
        "    def move_particles(self):\n",
        "        for particle in self.particles:\n",
        "            global W\n",
        "            new_velocity = (W*particle.velocity) + (c1*random.random()) * (particle.pbest_position - particle.position) + \\\n",
        "                            (random.random()*c2) * (self.gbest_position - particle.position)\n",
        "            particle.velocity = new_velocity\n",
        "            particle.move()"
      ],
      "execution_count": null,
      "outputs": []
    },
    {
      "cell_type": "code",
      "metadata": {
        "id": "Lnb_GUQp9c1E"
      },
      "source": [
        "mode = 0 #0 para buscar pixel claro, 1 para buscar pixel escuro\n",
        "number_interaction = 100\n",
        "target_error = 1e-2 # 1% de erro, serão aceito valores abaixo de 2,55 ou acima de 252,45\n",
        "number_particles = 10\n",
        "\n",
        "w = 0.5\n",
        "c1 = 0.8\n",
        "c2 = 0.9\n",
        "fitnessArray = []\n",
        "valorArray = []"
      ],
      "execution_count": null,
      "outputs": []
    },
    {
      "cell_type": "code",
      "metadata": {
        "id": "fPT9aB7N9gPr"
      },
      "source": [
        "particulas = [Particle(None) for _ in range(number_particles)]\n",
        "for i in range(1, len(particulas)):\n",
        "  particulas[i].neighbor = particulas[i-1]\n",
        "\n",
        "particulas[0].neighbor = particulas[len(particulas)-1]\n",
        "\n",
        "space = Space(mode, target_error, number_particles)\n",
        "space.particles = particulas\n",
        "\n",
        "i = 0\n",
        "while i < number_interaction:\n",
        "  space.set_pbest()\n",
        "  space.set_gbest()\n",
        "  fitnessArray.append(space.gbest_value)\n",
        "  valorArray.append(get_value_image(space.gbest_position))\n",
        "\n",
        "  if abs(1-(space.gbest_value)) <= space.target_error: break\n",
        "\n",
        "  space.move_particles()\n",
        "  i += 1"
      ],
      "execution_count": null,
      "outputs": []
    },
    {
      "cell_type": "code",
      "metadata": {
        "colab": {
          "base_uri": "https://localhost:8080/"
        },
        "id": "Oo-DqCxmBZIp",
        "outputId": "66316ba5-ac08-41b0-a867-0baece1b46b8"
      },
      "source": [
        "mode = 1 #0 para buscar pixel claro, 1 para buscar pixel escuro\n",
        "number_interaction = 100\n",
        "target_error = 1e-2 # 1% de erro, serão aceito valores abaixo de 2,55 ou acima de 252,45\n",
        "number_particles = 100\n",
        "\n",
        "w = 0.5\n",
        "c1 = 0.8\n",
        "c2 = 0.9\n",
        "fitnessArray = []\n",
        "valorArray = []\n",
        "cor = \"claro\" if mode== 0 else \"escuro\"\n",
        "print(\"Posição do pixel mais \" + cor + \": \" + str(space.gbest_position))\n",
        "print(\"Particulas\" + space.print_particles)\n",
        "print(\"valor mais \" + cor + \" encontrado: \" + str(get_value_image(space.gbest_position)))"
      ],
      "execution_count": null,
      "outputs": [
        {
          "output_type": "stream",
          "name": "stdout",
          "text": [
            "Posição do pixel mais escuro: [ 37 948]\n",
            "valor mais escuro encontrado: 232.0\n"
          ]
        }
      ]
    }
  ]
}